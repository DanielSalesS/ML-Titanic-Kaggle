{
  "nbformat": 4,
  "nbformat_minor": 0,
  "metadata": {
    "colab": {
      "name": "Titanic_v2.ipynb",
      "provenance": [],
      "collapsed_sections": [],
      "toc_visible": true
    },
    "kernelspec": {
      "name": "python3",
      "display_name": "Python 3"
    }
  },
  "cells": [
    {
      "cell_type": "markdown",
      "metadata": {
        "id": "mFvW-ESPsuSa"
      },
      "source": [
        "# **Modelo 1** \r\n",
        "Modelo 1 + Validação cruzada.\r\n",
        "\r\n"
      ]
    },
    {
      "cell_type": "markdown",
      "metadata": {
        "id": "DiTaDXvDqxjD"
      },
      "source": [
        "## **Início**\r\n"
      ]
    },
    {
      "cell_type": "code",
      "metadata": {
        "id": "frx9-1insoFV"
      },
      "source": [
        "import numpy as np\r\n",
        "import pandas as pd\r\n",
        "from sklearn.ensemble import RandomForestClassifier\r\n",
        "from sklearn.model_selection import train_test_split\r\n",
        "from sklearn.model_selection import KFold\r\n"
      ],
      "execution_count": null,
      "outputs": []
    },
    {
      "cell_type": "code",
      "metadata": {
        "id": "DoWbxuob8-ml"
      },
      "source": [
        "#Essa função transforma Female em 1 e Male em 0.\r\n",
        "transformar_sexo = lambda valor : 1 if(valor == 'female') else 0\r\n",
        " "
      ],
      "execution_count": null,
      "outputs": []
    },
    {
      "cell_type": "markdown",
      "metadata": {
        "id": "VdOnqGeXpgn8"
      },
      "source": [
        "## **Preparando os dados**"
      ]
    },
    {
      "cell_type": "code",
      "metadata": {
        "id": "z3kcqj3gqNdL"
      },
      "source": [
        "#Carregando os dados.\r\n",
        "train = pd.read_csv('sample_data/train.csv')\r\n",
        "test = pd.read_csv('sample_data/test.csv')"
      ],
      "execution_count": null,
      "outputs": []
    },
    {
      "cell_type": "code",
      "metadata": {
        "id": "3w25DOb-96Pr"
      },
      "source": [
        "#Usando a função para transformar texto em número.\r\n",
        "train['Sex_binario'] = train['Sex'].map(transformar_sexo)\r\n",
        "test['Sex_binario'] = test['Sex'].map(transformar_sexo)"
      ],
      "execution_count": null,
      "outputs": []
    },
    {
      "cell_type": "code",
      "metadata": {
        "id": "S1wPeHpe8cHS"
      },
      "source": [
        "#Variáveis do modelo.\r\n",
        "variaveis = ['Sex_binario','Age']"
      ],
      "execution_count": null,
      "outputs": []
    },
    {
      "cell_type": "code",
      "metadata": {
        "id": "biVJ_n3x-dBY"
      },
      "source": [
        "#Selecionando as variáveis. \r\n",
        "X = train[variaveis]\r\n",
        "y = train['Survived']\r\n",
        "X_prev = test[variaveis]"
      ],
      "execution_count": null,
      "outputs": []
    },
    {
      "cell_type": "code",
      "metadata": {
        "id": "1bGs0MjJVCXF"
      },
      "source": [
        "##Substituindo valores nulos. \r\n",
        "#NaN to -1.\r\n",
        "X = X.fillna(-1)\r\n",
        "X_prev = X_prev.fillna(-1)\r\n"
      ],
      "execution_count": null,
      "outputs": []
    },
    {
      "cell_type": "code",
      "metadata": {
        "id": "XsbW74VaGBKt"
      },
      "source": [
        "#Separando os dados de treino e teste.\r\n",
        "np.random.seed(1) \r\n",
        "X_treino, X_valid, y_treino, y_valid = train_test_split(X, y, test_size=0.5)"
      ],
      "execution_count": null,
      "outputs": []
    },
    {
      "cell_type": "markdown",
      "metadata": {
        "id": "rGOXNMqvpy6K"
      },
      "source": [
        "## **Modelo**"
      ]
    },
    {
      "cell_type": "code",
      "metadata": {
        "id": "LUTc4o6SyF32"
      },
      "source": [
        "#Criando a instância do modelo.\r\n",
        "modelo = RandomForestClassifier(n_estimators=100, n_jobs=-1, random_state=0)"
      ],
      "execution_count": null,
      "outputs": []
    },
    {
      "cell_type": "code",
      "metadata": {
        "colab": {
          "base_uri": "https://localhost:8080/"
        },
        "id": "CAGGZYQL_ljp",
        "outputId": "04a58ad6-f653-4fdb-e40b-8918b2ea69bb"
      },
      "source": [
        "#Treinando o modelo. \r\n",
        "modelo.fit(X_treino, y_treino)"
      ],
      "execution_count": null,
      "outputs": [
        {
          "output_type": "execute_result",
          "data": {
            "text/plain": [
              "RandomForestClassifier(bootstrap=True, ccp_alpha=0.0, class_weight=None,\n",
              "                       criterion='gini', max_depth=None, max_features='auto',\n",
              "                       max_leaf_nodes=None, max_samples=None,\n",
              "                       min_impurity_decrease=0.0, min_impurity_split=None,\n",
              "                       min_samples_leaf=1, min_samples_split=2,\n",
              "                       min_weight_fraction_leaf=0.0, n_estimators=100,\n",
              "                       n_jobs=-1, oob_score=False, random_state=0, verbose=0,\n",
              "                       warm_start=False)"
            ]
          },
          "metadata": {
            "tags": []
          },
          "execution_count": 24
        }
      ]
    },
    {
      "cell_type": "code",
      "metadata": {
        "id": "pebgcGT7AYO7"
      },
      "source": [
        "#Prevendo os valores. \r\n",
        "pred = modelo.predict(X_valid)\r\n"
      ],
      "execution_count": null,
      "outputs": []
    },
    {
      "cell_type": "code",
      "metadata": {
        "colab": {
          "base_uri": "https://localhost:8080/"
        },
        "id": "sWirSKmQV9Sy",
        "outputId": "91f2e0a4-b0cb-4cca-aad6-6fe1944522f5"
      },
      "source": [
        "#Acurácia\r\n",
        "np.mean(pred==y_valid)"
      ],
      "execution_count": null,
      "outputs": [
        {
          "output_type": "execute_result",
          "data": {
            "text/plain": [
              "0.7466367713004485"
            ]
          },
          "metadata": {
            "tags": []
          },
          "execution_count": 26
        }
      ]
    },
    {
      "cell_type": "markdown",
      "metadata": {
        "id": "_mb-DjFAV3cH"
      },
      "source": [
        "## **Validação cruzada**"
      ]
    },
    {
      "cell_type": "code",
      "metadata": {
        "colab": {
          "base_uri": "https://localhost:8080/"
        },
        "id": "BhakIki1WPh_",
        "outputId": "77a62c2f-1652-43b2-db9c-8a9ab9c1a524"
      },
      "source": [
        "#Validação cruzada\r\n",
        "resultados_acc = []\r\n",
        "for rep in range(10):\r\n",
        "  print(\"rep:\",rep)\r\n",
        "  kf= KFold(2, shuffle=True, random_state=rep)\r\n",
        "\r\n",
        "  for linhas_treino, linhas_valid in kf.split(X):\r\n",
        "    print(\"Treino:\", linhas_treino.shape[0])\r\n",
        "    print(\"Valid:\", linhas_valid.shape[0])\r\n",
        "    X_treino, X_valid = X.iloc[linhas_treino], X.iloc[linhas_valid]\r\n",
        "    y_treino, y_valid = y.iloc[linhas_treino], y.iloc[linhas_valid]\r\n",
        "\r\n",
        "    modelo.fit(X_treino, y_treino)\r\n",
        "\r\n",
        "    pred = modelo.predict(X_valid)\r\n",
        "    acc=np.mean(pred==y_valid)\r\n",
        "    resultados_acc.append(acc)\r\n",
        "    print(\"Acc:\", acc)\r\n",
        "    print(\"=\"*25)\r\n",
        "\r\n",
        "  "
      ],
      "execution_count": null,
      "outputs": [
        {
          "output_type": "stream",
          "text": [
            "rep: 0\n",
            "Treino: 445\n",
            "Valid: 446\n",
            "Acc: 0.7713004484304933\n",
            "=========================\n",
            "Treino: 446\n",
            "Valid: 445\n",
            "Acc: 0.7797752808988764\n",
            "=========================\n",
            "rep: 1\n",
            "Treino: 445\n",
            "Valid: 446\n",
            "Acc: 0.7443946188340808\n",
            "=========================\n",
            "Treino: 446\n",
            "Valid: 445\n",
            "Acc: 0.7955056179775281\n",
            "=========================\n",
            "rep: 2\n",
            "Treino: 445\n",
            "Valid: 446\n",
            "Acc: 0.7757847533632287\n",
            "=========================\n",
            "Treino: 446\n",
            "Valid: 445\n",
            "Acc: 0.7887640449438202\n",
            "=========================\n",
            "rep: 3\n",
            "Treino: 445\n",
            "Valid: 446\n",
            "Acc: 0.7533632286995515\n",
            "=========================\n",
            "Treino: 446\n",
            "Valid: 445\n",
            "Acc: 0.7573033707865169\n",
            "=========================\n",
            "rep: 4\n",
            "Treino: 445\n",
            "Valid: 446\n",
            "Acc: 0.7354260089686099\n",
            "=========================\n",
            "Treino: 446\n",
            "Valid: 445\n",
            "Acc: 0.7415730337078652\n",
            "=========================\n",
            "rep: 5\n",
            "Treino: 445\n",
            "Valid: 446\n",
            "Acc: 0.7219730941704036\n",
            "=========================\n",
            "Treino: 446\n",
            "Valid: 445\n"
          ],
          "name": "stdout"
        }
      ]
    },
    {
      "cell_type": "code",
      "metadata": {
        "id": "kDlnFpWmboYk"
      },
      "source": [
        "#Acurácia média\r\n",
        "np.mean(resultados_acc)"
      ],
      "execution_count": null,
      "outputs": []
    }
  ]
}