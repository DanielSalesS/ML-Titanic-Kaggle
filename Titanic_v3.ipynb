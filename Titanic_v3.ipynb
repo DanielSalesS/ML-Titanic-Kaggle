{
  "nbformat": 4,
  "nbformat_minor": 0,
  "metadata": {
    "colab": {
      "name": "Titanic_v3.ipynb",
      "provenance": [],
      "collapsed_sections": [
        "DiTaDXvDqxjD",
        "rGOXNMqvpy6K",
        "J2M-0SiiHVwV",
        "jjXqMy5FqAxh"
      ]
    },
    "kernelspec": {
      "name": "python3",
      "display_name": "Python 3"
    }
  },
  "cells": [
    {
      "cell_type": "markdown",
      "metadata": {
        "id": "mFvW-ESPsuSa"
      },
      "source": [
        "# **Modelagem 2** \r\n",
        "Analise do modelo 1 e criação do modelo 2.\r\n",
        "\r\n"
      ]
    },
    {
      "cell_type": "markdown",
      "metadata": {
        "id": "DiTaDXvDqxjD"
      },
      "source": [
        "## **Início**\r\n"
      ]
    },
    {
      "cell_type": "code",
      "metadata": {
        "id": "frx9-1insoFV"
      },
      "source": [
        "import numpy as np\r\n",
        "import pandas as pd\r\n",
        "from sklearn.ensemble import RandomForestClassifier\r\n",
        "from sklearn.model_selection import train_test_split\r\n",
        "from sklearn.model_selection import KFold\r\n",
        "from sklearn.model_selection import RepeatedKFold\r\n"
      ],
      "execution_count": null,
      "outputs": []
    },
    {
      "cell_type": "code",
      "metadata": {
        "id": "DoWbxuob8-ml"
      },
      "source": [
        "#Essa função transforma Female em 1 e Male em 0.\r\n",
        "transformar_sexo = lambda valor : 1 if(valor == 'female') else 0\r\n",
        " "
      ],
      "execution_count": null,
      "outputs": []
    },
    {
      "cell_type": "markdown",
      "metadata": {
        "id": "rGOXNMqvpy6K"
      },
      "source": [
        "## **Modelo 1**"
      ]
    },
    {
      "cell_type": "markdown",
      "metadata": {
        "id": "VdOnqGeXpgn8"
      },
      "source": [
        "**Preparando os dados**"
      ]
    },
    {
      "cell_type": "code",
      "metadata": {
        "id": "z3kcqj3gqNdL"
      },
      "source": [
        "#Carregando os dados.\r\n",
        "train = pd.read_csv('sample_data/train.csv')"
      ],
      "execution_count": null,
      "outputs": []
    },
    {
      "cell_type": "code",
      "metadata": {
        "id": "3w25DOb-96Pr"
      },
      "source": [
        "#Usando a função para transformar texto em número.\r\n",
        "train['Sex_binario'] = train['Sex'].map(transformar_sexo)"
      ],
      "execution_count": null,
      "outputs": []
    },
    {
      "cell_type": "code",
      "metadata": {
        "id": "S1wPeHpe8cHS"
      },
      "source": [
        "#Variáveis do modelo.\r\n",
        "variaveis = ['Sex_binario','Age']"
      ],
      "execution_count": null,
      "outputs": []
    },
    {
      "cell_type": "code",
      "metadata": {
        "id": "biVJ_n3x-dBY"
      },
      "source": [
        "#Selecionando as variáveis. \r\n",
        "X = train[variaveis]\r\n",
        "y = train['Survived']"
      ],
      "execution_count": null,
      "outputs": []
    },
    {
      "cell_type": "code",
      "metadata": {
        "id": "1bGs0MjJVCXF"
      },
      "source": [
        "##Substituindo valores nulos. \r\n",
        "#NaN to -1.\r\n",
        "X = X.fillna(-1)"
      ],
      "execution_count": null,
      "outputs": []
    },
    {
      "cell_type": "code",
      "metadata": {
        "id": "LUTc4o6SyF32"
      },
      "source": [
        "#Criando a instância do modelo.\r\n",
        "modelo = RandomForestClassifier(n_estimators=100, n_jobs=-1, random_state=0)"
      ],
      "execution_count": null,
      "outputs": []
    },
    {
      "cell_type": "markdown",
      "metadata": {
        "id": "_mb-DjFAV3cH"
      },
      "source": [
        "**Validação cruzada**"
      ]
    },
    {
      "cell_type": "code",
      "metadata": {
        "colab": {
          "base_uri": "https://localhost:8080/"
        },
        "id": "BhakIki1WPh_",
        "outputId": "2026ac83-5e08-4c65-e5cf-6064fdbd6719"
      },
      "source": [
        "#Validação cruzada\r\n",
        "resultados_acc= []\r\n",
        "kf = RepeatedKFold(n_splits=2,n_repeats=10,random_state= 10)\r\n",
        "\r\n",
        "for linhas_treino, linhas_valid in kf.split(X):\r\n",
        "  print(\"Treino:\", linhas_treino.shape[0])\r\n",
        "  print(\"Valid:\", linhas_valid.shape[0])\r\n",
        "  X_treino, X_valid = X.iloc[linhas_treino], X.iloc[linhas_valid]\r\n",
        "  y_treino, y_valid = y.iloc[linhas_treino], y.iloc[linhas_valid]\r\n",
        "\r\n",
        "  modelo.fit(X_treino, y_treino)\r\n",
        "\r\n",
        "  pred = modelo.predict(X_valid)\r\n",
        "  acc=np.mean(pred==y_valid)\r\n",
        "  resultados_acc.append(acc)\r\n",
        "  print(\"Acc:\", acc)\r\n",
        "  print(\"=\"*25)\r\n",
        "\r\n",
        "  "
      ],
      "execution_count": null,
      "outputs": [
        {
          "output_type": "stream",
          "text": [
            "Treino: 445\n",
            "Valid: 446\n",
            "Acc: 0.7511210762331838\n",
            "=========================\n",
            "Treino: 446\n",
            "Valid: 445\n",
            "Acc: 0.7617977528089888\n",
            "=========================\n",
            "Treino: 445\n",
            "Valid: 446\n",
            "Acc: 0.7533632286995515\n",
            "=========================\n",
            "Treino: 446\n",
            "Valid: 445\n",
            "Acc: 0.7595505617977528\n",
            "=========================\n",
            "Treino: 445\n",
            "Valid: 446\n",
            "Acc: 0.7690582959641256\n",
            "=========================\n",
            "Treino: 446\n",
            "Valid: 445\n",
            "Acc: 0.7573033707865169\n",
            "=========================\n",
            "Treino: 445\n",
            "Valid: 446\n",
            "Acc: 0.7399103139013453\n",
            "=========================\n",
            "Treino: 446\n",
            "Valid: 445\n",
            "Acc: 0.7595505617977528\n",
            "=========================\n",
            "Treino: 445\n",
            "Valid: 446\n",
            "Acc: 0.7354260089686099\n",
            "=========================\n",
            "Treino: 446\n",
            "Valid: 445\n",
            "Acc: 0.797752808988764\n",
            "=========================\n",
            "Treino: 445\n",
            "Valid: 446\n",
            "Acc: 0.7690582959641256\n",
            "=========================\n",
            "Treino: 446\n",
            "Valid: 445\n",
            "Acc: 0.7640449438202247\n",
            "=========================\n",
            "Treino: 445\n",
            "Valid: 446\n",
            "Acc: 0.7757847533632287\n",
            "=========================\n",
            "Treino: 446\n",
            "Valid: 445\n",
            "Acc: 0.7573033707865169\n",
            "=========================\n",
            "Treino: 445\n",
            "Valid: 446\n",
            "Acc: 0.7556053811659192\n",
            "=========================\n",
            "Treino: 446\n",
            "Valid: 445\n",
            "Acc: 0.7640449438202247\n",
            "=========================\n",
            "Treino: 445\n",
            "Valid: 446\n",
            "Acc: 0.7443946188340808\n",
            "=========================\n",
            "Treino: 446\n",
            "Valid: 445\n",
            "Acc: 0.7595505617977528\n",
            "=========================\n",
            "Treino: 445\n",
            "Valid: 446\n",
            "Acc: 0.7533632286995515\n",
            "=========================\n",
            "Treino: 446\n",
            "Valid: 445\n",
            "Acc: 0.7640449438202247\n",
            "=========================\n"
          ],
          "name": "stdout"
        }
      ]
    },
    {
      "cell_type": "code",
      "metadata": {
        "colab": {
          "base_uri": "https://localhost:8080/"
        },
        "id": "M46WQFJg-WFR",
        "outputId": "3e0a8ebd-d68d-46e8-cdf9-1edc3e0eb9f4"
      },
      "source": [
        "resultados_acc"
      ],
      "execution_count": null,
      "outputs": [
        {
          "output_type": "execute_result",
          "data": {
            "text/plain": [
              "[0.7511210762331838,\n",
              " 0.7617977528089888,\n",
              " 0.7533632286995515,\n",
              " 0.7595505617977528,\n",
              " 0.7690582959641256,\n",
              " 0.7573033707865169,\n",
              " 0.7399103139013453,\n",
              " 0.7595505617977528,\n",
              " 0.7354260089686099,\n",
              " 0.797752808988764,\n",
              " 0.7690582959641256,\n",
              " 0.7640449438202247,\n",
              " 0.7757847533632287,\n",
              " 0.7573033707865169,\n",
              " 0.7556053811659192,\n",
              " 0.7640449438202247,\n",
              " 0.7443946188340808,\n",
              " 0.7595505617977528,\n",
              " 0.7533632286995515,\n",
              " 0.7640449438202247]"
            ]
          },
          "metadata": {
            "tags": []
          },
          "execution_count": 34
        }
      ]
    },
    {
      "cell_type": "code",
      "metadata": {
        "colab": {
          "base_uri": "https://localhost:8080/"
        },
        "id": "kDlnFpWmboYk",
        "outputId": "b6732c96-4a99-40a3-87ff-a0aefbdd825a"
      },
      "source": [
        "#Acurácia média do modelo 1\r\n",
        "np.mean(resultados_acc)"
      ],
      "execution_count": null,
      "outputs": [
        {
          "output_type": "execute_result",
          "data": {
            "text/plain": [
              "0.759601451100922"
            ]
          },
          "metadata": {
            "tags": []
          },
          "execution_count": 35
        }
      ]
    },
    {
      "cell_type": "code",
      "metadata": {
        "colab": {
          "base_uri": "https://localhost:8080/"
        },
        "id": "qwpT5pUf-ces",
        "outputId": "bcfcfe16-027e-44e8-9963-0d373f37d184"
      },
      "source": [
        "%matplotlib inline \r\n",
        "%pylab inline "
      ],
      "execution_count": null,
      "outputs": [
        {
          "output_type": "stream",
          "text": [
            "Populating the interactive namespace from numpy and matplotlib\n"
          ],
          "name": "stdout"
        },
        {
          "output_type": "stream",
          "text": [
            "/usr/local/lib/python3.6/dist-packages/IPython/core/magics/pylab.py:161: UserWarning: pylab import has clobbered these variables: ['test']\n",
            "`%matplotlib` prevents importing * from pylab and numpy\n",
            "  \"\\n`%matplotlib` prevents importing * from pylab and numpy\"\n"
          ],
          "name": "stderr"
        }
      ]
    },
    {
      "cell_type": "code",
      "metadata": {
        "colab": {
          "base_uri": "https://localhost:8080/"
        },
        "id": "m6ucDX7KiSA8",
        "outputId": "c794e2a7-b50d-42d6-e22d-6bce3781f550"
      },
      "source": [
        "#Histograma das acurácias.\r\n",
        "pylab.hist(resultados_acc)"
      ],
      "execution_count": null,
      "outputs": [
        {
          "output_type": "execute_result",
          "data": {
            "text/plain": [
              "(array([2., 1., 3., 6., 4., 2., 1., 0., 0., 1.]),\n",
              " array([0.73542601, 0.74165869, 0.74789137, 0.75412405, 0.76035673,\n",
              "        0.76658941, 0.77282209, 0.77905477, 0.78528745, 0.79152013,\n",
              "        0.79775281]),\n",
              " <a list of 10 Patch objects>)"
            ]
          },
          "metadata": {
            "tags": []
          },
          "execution_count": 37
        },
        {
          "output_type": "display_data",
          "data": {
            "image/png": "[encoded data removed]",
            "text/plain": [
              "<Figure size 432x288 with 1 Axes>"
            ]
          },
          "metadata": {
            "tags": [],
            "needs_background": "light"
          }
        }
      ]
    },
    {
      "cell_type": "markdown",
      "metadata": {
        "id": "J2M-0SiiHVwV"
      },
      "source": [
        "## **Modelo 2**"
      ]
    },
    {
      "cell_type": "code",
      "metadata": {
        "id": "OI8jeaqMcxaE"
      },
      "source": [
        "#Carregando os dados.\r\n",
        "train = pd.read_csv('sample_data/train.csv')\r\n",
        "\r\n",
        "#Usando a função para transformar texto em número.\r\n",
        "train['Sex_binario'] = train['Sex'].map(transformar_sexo)\r\n"
      ],
      "execution_count": null,
      "outputs": []
    },
    {
      "cell_type": "code",
      "metadata": {
        "colab": {
          "base_uri": "https://localhost:8080/",
          "height": 357
        },
        "id": "VpNpFlnOBR6_",
        "outputId": "b9153055-16f8-4a27-9551-7156e4be61f6"
      },
      "source": [
        "#Escolhendo novas variáveis.\r\n",
        "train.head()"
      ],
      "execution_count": null,
      "outputs": [
        {
          "output_type": "execute_result",
          "data": {
            "text/html": [
              "<div>\n",
              "<style scoped>\n",
              "    .dataframe tbody tr th:only-of-type {\n",
              "        vertical-align: middle;\n",
              "    }\n",
              "\n",
              "    .dataframe tbody tr th {\n",
              "        vertical-align: top;\n",
              "    }\n",
              "\n",
              "    .dataframe thead th {\n",
              "        text-align: right;\n",
              "    }\n",
              "</style>\n",
              "<table border=\"1\" class=\"dataframe\">\n",
              "  <thead>\n",
              "    <tr style=\"text-align: right;\">\n",
              "      <th></th>\n",
              "      <th>PassengerId</th>\n",
              "      <th>Survived</th>\n",
              "      <th>Pclass</th>\n",
              "      <th>Name</th>\n",
              "      <th>Sex</th>\n",
              "      <th>Age</th>\n",
              "      <th>SibSp</th>\n",
              "      <th>Parch</th>\n",
              "      <th>Ticket</th>\n",
              "      <th>Fare</th>\n",
              "      <th>Cabin</th>\n",
              "      <th>Embarked</th>\n",
              "      <th>Sex_binario</th>\n",
              "    </tr>\n",
              "  </thead>\n",
              "  <tbody>\n",
              "    <tr>\n",
              "      <th>0</th>\n",
              "      <td>1</td>\n",
              "      <td>0</td>\n",
              "      <td>3</td>\n",
              "      <td>Braund, Mr. Owen Harris</td>\n",
              "      <td>male</td>\n",
              "      <td>22.0</td>\n",
              "      <td>1</td>\n",
              "      <td>0</td>\n",
              "      <td>A/5 21171</td>\n",
              "      <td>7.2500</td>\n",
              "      <td>NaN</td>\n",
              "      <td>S</td>\n",
              "      <td>0</td>\n",
              "    </tr>\n",
              "    <tr>\n",
              "      <th>1</th>\n",
              "      <td>2</td>\n",
              "      <td>1</td>\n",
              "      <td>1</td>\n",
              "      <td>Cumings, Mrs. John Bradley (Florence Briggs Th...</td>\n",
              "      <td>female</td>\n",
              "      <td>38.0</td>\n",
              "      <td>1</td>\n",
              "      <td>0</td>\n",
              "      <td>PC 17599</td>\n",
              "      <td>71.2833</td>\n",
              "      <td>C85</td>\n",
              "      <td>C</td>\n",
              "      <td>1</td>\n",
              "    </tr>\n",
              "    <tr>\n",
              "      <th>2</th>\n",
              "      <td>3</td>\n",
              "      <td>1</td>\n",
              "      <td>3</td>\n",
              "      <td>Heikkinen, Miss. Laina</td>\n",
              "      <td>female</td>\n",
              "      <td>26.0</td>\n",
              "      <td>0</td>\n",
              "      <td>0</td>\n",
              "      <td>STON/O2. 3101282</td>\n",
              "      <td>7.9250</td>\n",
              "      <td>NaN</td>\n",
              "      <td>S</td>\n",
              "      <td>1</td>\n",
              "    </tr>\n",
              "    <tr>\n",
              "      <th>3</th>\n",
              "      <td>4</td>\n",
              "      <td>1</td>\n",
              "      <td>1</td>\n",
              "      <td>Futrelle, Mrs. Jacques Heath (Lily May Peel)</td>\n",
              "      <td>female</td>\n",
              "      <td>35.0</td>\n",
              "      <td>1</td>\n",
              "      <td>0</td>\n",
              "      <td>113803</td>\n",
              "      <td>53.1000</td>\n",
              "      <td>C123</td>\n",
              "      <td>S</td>\n",
              "      <td>1</td>\n",
              "    </tr>\n",
              "    <tr>\n",
              "      <th>4</th>\n",
              "      <td>5</td>\n",
              "      <td>0</td>\n",
              "      <td>3</td>\n",
              "      <td>Allen, Mr. William Henry</td>\n",
              "      <td>male</td>\n",
              "      <td>35.0</td>\n",
              "      <td>0</td>\n",
              "      <td>0</td>\n",
              "      <td>373450</td>\n",
              "      <td>8.0500</td>\n",
              "      <td>NaN</td>\n",
              "      <td>S</td>\n",
              "      <td>0</td>\n",
              "    </tr>\n",
              "  </tbody>\n",
              "</table>\n",
              "</div>"
            ],
            "text/plain": [
              "   PassengerId  Survived  Pclass  ... Cabin Embarked  Sex_binario\n",
              "0            1         0       3  ...   NaN        S            0\n",
              "1            2         1       1  ...   C85        C            1\n",
              "2            3         1       3  ...   NaN        S            1\n",
              "3            4         1       1  ...  C123        S            1\n",
              "4            5         0       3  ...   NaN        S            0\n",
              "\n",
              "[5 rows x 13 columns]"
            ]
          },
          "metadata": {
            "tags": []
          },
          "execution_count": 48
        }
      ]
    },
    {
      "cell_type": "code",
      "metadata": {
        "id": "QsTej3WEBwBJ"
      },
      "source": [
        "#Pclass: Classe que o passageiro viajou..\r\n",
        "#SibSp: Irmãos / cônjuges a bordo.\r\n",
        "#Parch: Pais / filhos a bordo.\r\n",
        "#Fare: Valor do bilhete.\r\n",
        "variaveis = ['Sex_binario', 'Age', 'Pclass', 'SibSp', 'Parch', 'Fare']"
      ],
      "execution_count": null,
      "outputs": []
    },
    {
      "cell_type": "code",
      "metadata": {
        "id": "SUs24HR9Hjbj"
      },
      "source": [
        "#Tratando as novas entradas.\r\n",
        "X = train[variaveis].fillna(-1)\r\n",
        "y = train['Survived']"
      ],
      "execution_count": null,
      "outputs": []
    },
    {
      "cell_type": "code",
      "metadata": {
        "colab": {
          "base_uri": "https://localhost:8080/"
        },
        "id": "S9zczqDPIm-G",
        "outputId": "ccefb7bd-acbf-488c-c2d5-39a53200ec74"
      },
      "source": [
        "#Validação cruzada\r\n",
        "resultados_acc= []\r\n",
        "kf = RepeatedKFold(n_splits=2,n_repeats=10,random_state= 10)\r\n",
        "\r\n",
        "for linhas_treino, linhas_valid in kf.split(X):\r\n",
        "  print(\"Treino:\", linhas_treino.shape[0])\r\n",
        "  print(\"Valid:\", linhas_valid.shape[0])\r\n",
        "  X_treino, X_valid = X.iloc[linhas_treino], X.iloc[linhas_valid]\r\n",
        "  y_treino, y_valid = y.iloc[linhas_treino], y.iloc[linhas_valid]\r\n",
        "\r\n",
        "  modelo.fit(X_treino, y_treino)\r\n",
        "\r\n",
        "  pred = modelo.predict(X_valid)\r\n",
        "  acc=np.mean(pred==y_valid)\r\n",
        "  resultados_acc.append(acc)\r\n",
        "  print(\"Acc:\", acc)\r\n",
        "  print(\"=\"*25)\r\n"
      ],
      "execution_count": null,
      "outputs": [
        {
          "output_type": "stream",
          "text": [
            "Treino: 445\n",
            "Valid: 446\n",
            "Acc: 0.7869955156950673\n",
            "=========================\n",
            "Treino: 446\n",
            "Valid: 445\n",
            "Acc: 0.7797752808988764\n",
            "=========================\n",
            "Treino: 445\n",
            "Valid: 446\n",
            "Acc: 0.827354260089686\n",
            "=========================\n",
            "Treino: 446\n",
            "Valid: 445\n",
            "Acc: 0.8179775280898877\n",
            "=========================\n",
            "Treino: 445\n",
            "Valid: 446\n",
            "Acc: 0.7847533632286996\n",
            "=========================\n",
            "Treino: 446\n",
            "Valid: 445\n",
            "Acc: 0.7842696629213484\n",
            "=========================\n",
            "Treino: 445\n",
            "Valid: 446\n",
            "Acc: 0.8161434977578476\n",
            "=========================\n",
            "Treino: 446\n",
            "Valid: 445\n",
            "Acc: 0.7842696629213484\n",
            "=========================\n",
            "Treino: 445\n",
            "Valid: 446\n",
            "Acc: 0.8004484304932735\n",
            "=========================\n",
            "Treino: 446\n",
            "Valid: 445\n",
            "Acc: 0.8\n",
            "=========================\n",
            "Treino: 445\n",
            "Valid: 446\n",
            "Acc: 0.8183856502242153\n",
            "=========================\n",
            "Treino: 446\n",
            "Valid: 445\n",
            "Acc: 0.802247191011236\n",
            "=========================\n",
            "Treino: 445\n",
            "Valid: 446\n",
            "Acc: 0.8116591928251121\n",
            "=========================\n",
            "Treino: 446\n",
            "Valid: 445\n",
            "Acc: 0.8067415730337079\n",
            "=========================\n",
            "Treino: 445\n",
            "Valid: 446\n",
            "Acc: 0.820627802690583\n",
            "=========================\n",
            "Treino: 446\n",
            "Valid: 445\n",
            "Acc: 0.7887640449438202\n",
            "=========================\n",
            "Treino: 445\n",
            "Valid: 446\n",
            "Acc: 0.8385650224215246\n",
            "=========================\n",
            "Treino: 446\n",
            "Valid: 445\n",
            "Acc: 0.8044943820224719\n",
            "=========================\n",
            "Treino: 445\n",
            "Valid: 446\n",
            "Acc: 0.7982062780269058\n",
            "=========================\n",
            "Treino: 446\n",
            "Valid: 445\n",
            "Acc: 0.8112359550561797\n",
            "=========================\n"
          ],
          "name": "stdout"
        }
      ]
    },
    {
      "cell_type": "code",
      "metadata": {
        "colab": {
          "base_uri": "https://localhost:8080/",
          "height": 367
        },
        "id": "vlyFm0NpI0Nu",
        "outputId": "71cd99d5-6f04-4983-d3f0-ad22bd31f3c0"
      },
      "source": [
        "%matplotlib inline \r\n",
        "%pylab inline \r\n",
        "#Histograma das acurácias.\r\n",
        "pylab.hist(resultados_acc)"
      ],
      "execution_count": null,
      "outputs": [
        {
          "output_type": "stream",
          "text": [
            "Populating the interactive namespace from numpy and matplotlib\n"
          ],
          "name": "stdout"
        },
        {
          "output_type": "execute_result",
          "data": {
            "text/plain": [
              "(array([4., 2., 0., 4., 2., 2., 4., 0., 1., 1.]),\n",
              " array([0.77977528, 0.78565426, 0.79153323, 0.7974122 , 0.80329118,\n",
              "        0.80917015, 0.81504913, 0.8209281 , 0.82680707, 0.83268605,\n",
              "        0.83856502]),\n",
              " <a list of 10 Patch objects>)"
            ]
          },
          "metadata": {
            "tags": []
          },
          "execution_count": 52
        },
        {
          "output_type": "display_data",
          "data": {
            "image/png": "[encoded data removed]",
            "text/plain": [
              "<Figure size 432x288 with 1 Axes>"
            ]
          },
          "metadata": {
            "tags": [],
            "needs_background": "light"
          }
        }
      ]
    },
    {
      "cell_type": "code",
      "metadata": {
        "colab": {
          "base_uri": "https://localhost:8080/"
        },
        "id": "mikizNeKJLPg",
        "outputId": "dab4afad-3a37-47a5-aec4-7c6a5387d10c"
      },
      "source": [
        "#Acurácia média do modelo 2.\r\n",
        "np.mean(resultados_acc)"
      ],
      "execution_count": null,
      "outputs": [
        {
          "output_type": "execute_result",
          "data": {
            "text/plain": [
              "0.8041457147175896"
            ]
          },
          "metadata": {
            "tags": []
          },
          "execution_count": 53
        }
      ]
    },
    {
      "cell_type": "markdown",
      "metadata": {
        "id": "gPCVcw6oKK2V"
      },
      "source": [
        "**Retreinando o modelo com todos os dados.**"
      ]
    },
    {
      "cell_type": "code",
      "metadata": {
        "id": "-8QQEnoDLudx"
      },
      "source": [
        "#Carregando os dados.\r\n",
        "train = pd.read_csv('sample_data/train.csv')\r\n",
        "test = pd.read_csv('sample_data/test.csv')\r\n",
        "\r\n",
        "#Usando a função para transformar texto em número.\r\n",
        "train['Sex_binario'] = train['Sex'].map(transformar_sexo)\r\n",
        "test['Sex_binario'] = test['Sex'].map(transformar_sexo)\r\n",
        "\r\n",
        "#Tratando as novas entradas\r\n",
        "X = train[variaveis].fillna(-1)\r\n",
        "X_prev = test[variaveis].fillna(-1)\r\n",
        "y = train['Survived']"
      ],
      "execution_count": null,
      "outputs": []
    },
    {
      "cell_type": "code",
      "metadata": {
        "colab": {
          "base_uri": "https://localhost:8080/"
        },
        "id": "GjPYvGorOSPS",
        "outputId": "a6aaef30-817c-44ba-d96d-695c0370f7ef"
      },
      "source": [
        "modelo = RandomForestClassifier(n_estimators=100, n_jobs=-1, random_state=0)\r\n",
        "modelo.fit(X, y)\r\n",
        "pred = modelo.predict(X_prev)\r\n",
        "pred"
      ],
      "execution_count": null,
      "outputs": [
        {
          "output_type": "execute_result",
          "data": {
            "text/plain": [
              "array([0, 0, 1, 1, 0, 0, 0, 0, 1, 0, 0, 0, 1, 0, 1, 1, 0, 1, 0, 0, 0, 0,\n",
              "       1, 0, 1, 0, 1, 1, 1, 0, 0, 0, 1, 0, 1, 0, 0, 0, 0, 1, 0, 0, 0, 1,\n",
              "       1, 0, 0, 0, 1, 1, 0, 0, 1, 1, 0, 0, 0, 0, 0, 1, 0, 0, 0, 1, 1, 1,\n",
              "       1, 0, 0, 1, 1, 0, 0, 0, 1, 0, 0, 1, 0, 1, 1, 0, 0, 0, 1, 0, 1, 0,\n",
              "       1, 1, 0, 0, 1, 0, 0, 0, 1, 1, 0, 0, 1, 0, 0, 0, 1, 0, 0, 0, 0, 0,\n",
              "       0, 1, 1, 1, 1, 0, 0, 1, 0, 1, 1, 0, 1, 0, 0, 0, 0, 1, 0, 0, 1, 0,\n",
              "       0, 0, 0, 0, 0, 0, 0, 0, 0, 1, 0, 0, 1, 0, 0, 0, 0, 0, 1, 0, 0, 1,\n",
              "       0, 0, 1, 1, 1, 1, 1, 1, 1, 0, 0, 1, 0, 0, 1, 0, 0, 0, 0, 0, 0, 1,\n",
              "       1, 0, 1, 1, 0, 0, 1, 0, 1, 0, 1, 0, 0, 0, 0, 0, 1, 0, 1, 0, 1, 0,\n",
              "       0, 0, 1, 1, 0, 1, 0, 0, 0, 0, 1, 0, 0, 0, 0, 1, 1, 0, 1, 0, 1, 0,\n",
              "       1, 0, 1, 1, 1, 0, 0, 1, 0, 0, 0, 1, 0, 0, 0, 0, 0, 1, 1, 1, 1, 1,\n",
              "       0, 0, 0, 0, 1, 0, 1, 0, 1, 0, 1, 0, 0, 0, 0, 0, 1, 0, 0, 0, 1, 1,\n",
              "       0, 0, 0, 0, 0, 0, 0, 0, 1, 1, 0, 1, 0, 0, 0, 0, 0, 1, 1, 0, 1, 0,\n",
              "       0, 0, 0, 0, 0, 0, 0, 0, 0, 0, 1, 0, 0, 0, 0, 0, 0, 0, 1, 1, 1, 1,\n",
              "       0, 0, 0, 1, 0, 0, 1, 1, 0, 0, 0, 0, 0, 0, 0, 1, 1, 0, 1, 0, 0, 0,\n",
              "       1, 0, 0, 0, 0, 0, 1, 0, 0, 0, 0, 0, 0, 1, 1, 1, 0, 0, 0, 1, 1, 0,\n",
              "       0, 0, 1, 0, 1, 0, 0, 0, 0, 1, 1, 1, 1, 0, 0, 0, 1, 0, 0, 1, 0, 0,\n",
              "       1, 1, 0, 0, 0, 0, 0, 0, 0, 0, 1, 1, 0, 0, 0, 0, 0, 1, 0, 0, 0, 1,\n",
              "       0, 1, 0, 0, 1, 0, 1, 0, 0, 0, 0, 0, 1, 1, 1, 1, 0, 0, 1, 0, 0, 0])"
            ]
          },
          "metadata": {
            "tags": []
          },
          "execution_count": 57
        }
      ]
    },
    {
      "cell_type": "markdown",
      "metadata": {
        "id": "jjXqMy5FqAxh"
      },
      "source": [
        "## **Criando submission**"
      ]
    },
    {
      "cell_type": "code",
      "metadata": {
        "id": "naUGiGW8CScr"
      },
      "source": [
        "# Salvando os dados no formato csv.\r\n",
        "sub = pd.Series(pred, index=test['PassengerId'], name='Survived')\r\n",
        "sub.to_csv('my_submissions/segundo_modelo.csv', header= True)\r\n"
      ],
      "execution_count": null,
      "outputs": []
    },
    {
      "cell_type": "code",
      "metadata": {
        "colab": {
          "base_uri": "https://localhost:8080/"
        },
        "id": "TqeAsWGUFNOB",
        "outputId": "604358ba-f368-4674-a4b9-f9d0e48fc4ad"
      },
      "source": [
        "#\r\n",
        "!head -n10 'my_submissions/segundo_modelo.csv'"
      ],
      "execution_count": null,
      "outputs": [
        {
          "output_type": "stream",
          "text": [
            "PassengerId,Survived\n",
            "892,0\n",
            "893,0\n",
            "894,1\n",
            "895,1\n",
            "896,0\n",
            "897,0\n",
            "898,0\n",
            "899,0\n",
            "900,1\n"
          ],
          "name": "stdout"
        }
      ]
    }
  ]
}